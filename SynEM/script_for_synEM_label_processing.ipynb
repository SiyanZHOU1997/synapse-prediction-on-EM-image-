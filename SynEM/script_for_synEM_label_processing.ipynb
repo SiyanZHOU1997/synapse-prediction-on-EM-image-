{
 "cells": [
  {
   "cell_type": "code",
   "execution_count": 11,
   "metadata": {},
   "outputs": [],
   "source": [
    "import scipy.io as scio\n",
    "import h5py\n",
    "import numpy as np\n",
    "import matplotlib.pyplot as plt\n",
    "from matplotlib import cm\n",
    "import cv2\n",
    "from scipy import ndimage\n",
    "from matplotlib import pyplot\n",
    "import scipy\n",
    "from PIL import Image\n",
    "from skimage import measure\n",
    "import math\n",
    "from tqdm import tqdm_notebook as tqdm\n",
    "import os"
   ]
  },
  {
   "cell_type": "code",
   "execution_count": 20,
   "metadata": {},
   "outputs": [
    {
     "name": "stdout",
     "output_type": "stream",
     "text": [
      "U:\\Siyan\\synEM_train_data\n"
     ]
    }
   ],
   "source": [
    "cd U:\\Siyan\\synEM_train_data"
   ]
  },
  {
   "cell_type": "code",
   "execution_count": 23,
   "metadata": {},
   "outputs": [],
   "source": [
    "trainData = os.listdir('U:\\Siyan\\synEM_train_data')"
   ]
  },
  {
   "cell_type": "code",
   "execution_count": 31,
   "metadata": {},
   "outputs": [
    {
     "data": {
      "text/plain": [
       "['2012-09-28_ex145_07x2_mag1_x501-1000_y1001-1500_z501-700.mat',\n",
       " '2012-09-28_ex145_07x2_mag1_x2001-2500_y3001-3500_z801-1000.mat',\n",
       " '2012-09-28_ex145_07x2_mag1_x1001-1500_y1001-1500_z3000-3200.mat',\n",
       " '2012-09-28_ex145_07x2_mag1_x1501-2000_y1001-1500_z2001-2200.mat',\n",
       " '2012-09-28_ex145_07x2_mag1_x1501-2000_y501-1000_z2001-2200.mat',\n",
       " '2012-09-28_ex145_07x2_mag1_x3001-3500_y3001-3500_z1401-1600.mat',\n",
       " '2012-09-28_ex145_07x2_mag1_x1501-2000_y1001-1500_z1001-1200.mat',\n",
       " '2012-09-28_ex145_07x2_mag1_x3001-3500_y3001-3500_z1001-1200.mat',\n",
       " '2012-09-28_ex145_07x2_mag1_x3001-3500_y3001-3500_z1201-1400.mat',\n",
       " '2012-09-28_ex145_07x2_mag1_x3501-4000_y1501-2000_z1001-1200.mat',\n",
       " '2012-09-28_ex145_07x2_mag1_x1501-2000_y1501-2000_z2001-2200.mat',\n",
       " '2012-09-28_ex145_07x2_mag1_x2001-2500_y1001-1500_z1001-1200.mat',\n",
       " '2012-09-28_ex145_07x2_mag1_x4001-4500_y1001-1500_z801-1000.mat',\n",
       " '2012-09-28_ex145_07x2_mag1_x2001-2500_y2001-2500_z1901-2100.mat',\n",
       " '2012-09-28_ex145_07x2_mag1_x1001-1500_y501-1000_z500-700.mat',\n",
       " '2012-09-28_ex145_07x2_mag1_x1001-1500_y3001-3500_z1001-1200.mat',\n",
       " '2012-09-28_ex145_07x2_mag1_x1001-1500_y1001-1500_z1001-1200.mat',\n",
       " '2012-09-28_ex145_07x2_mag1_x501-1000_y501-1000_z501-700.mat',\n",
       " '2012-09-28_ex145_07x2_mag1_x1001-1500_y2501-3000_z1001-1200.mat',\n",
       " '2012-09-28_ex145_07x2_mag1_x5001-5500_y5001-5500_z2001-2200.mat',\n",
       " '2012-09-28_ex145_07x2_mag1_x4501-5000_y1001-1500_z1601-1800.mat',\n",
       " '2012-09-28_ex145_07x2_mag1_x6501-7000_y1001-1500_z501-700.mat',\n",
       " '2012-09-28_ex145_07x2_mag1_x735-1585_y980-1581_z769-1065.mat',\n",
       " '2012-09-28_ex145_07x2_mag1_x4001-4500_y3001-3500_z1501-1700.mat',\n",
       " '2012-09-28_ex145_07x2_mag1_x4001-4500_y2501-3000_z1001-1200.mat',\n",
       " '2012-09-28_ex145_07x2_mag1_x4001-4500_y1001-1500_z2201-2400.mat',\n",
       " '2012-09-28_ex145_07x2_mag1_x4501-5000_y1501-2000_z1001-1200.mat',\n",
       " '2012-09-28_ex145_07x2_mag1_x1501-2000_y501-1000_z1401-1600.mat',\n",
       " '2012-09-28_ex145_07x2_mag1_x501-1000_y1001-1500_z2501-2700.mat',\n",
       " '2012-09-28_ex145_07x2_mag1_x2001-2500_y1501-2000_z2801-3000.mat',\n",
       " '2012-09-28_ex145_07x2_mag1_x1501-2000_y501-1000_z501-700.mat',\n",
       " '2012-09-28_ex145_07x2_mag1_x7001-7500_y5001-5500_z1501-1700.mat',\n",
       " '2012-09-28_ex145_07x2_mag1_x1001-1500_y501-1000_z2000-2200.mat',\n",
       " '2012-09-28_ex145_07x2_mag1_x4001-4500_y4001-4500_z501-700.mat',\n",
       " '2012-09-28_ex145_07x2_mag1_x1501-2000_y1501-2000_z1501-1700.mat',\n",
       " '2012-09-28_ex145_07x2_mag1_x4501-5000_y1001-1500_z1001-1200.mat',\n",
       " '2012-09-28_ex145_07x2_mag1_x4501-5000_y1001-1500_z2601-2800.mat',\n",
       " '2012-09-28_ex145_07x2_mag1_x1501-2000_y1501-2000_z1001-1200.mat',\n",
       " '2012-09-28_ex145_07x2_mag1_x2001-2500_y1501-2000_z1401-1600.mat',\n",
       " '2012-09-28_ex145_07x2_mag1_x501-1000_y1501-2000_z2001-2200.mat']"
      ]
     },
     "execution_count": 31,
     "metadata": {},
     "output_type": "execute_result"
    }
   ],
   "source": [
    "trainData"
   ]
  },
  {
   "cell_type": "code",
   "execution_count": 24,
   "metadata": {},
   "outputs": [
    {
     "data": {
      "text/plain": [
       "40"
      ]
     },
     "execution_count": 24,
     "metadata": {},
     "output_type": "execute_result"
    }
   ],
   "source": [
    "len(trainData)"
   ]
  },
  {
   "cell_type": "code",
   "execution_count": 30,
   "metadata": {},
   "outputs": [
    {
     "data": {
      "text/plain": [
       "'2012-09-28_ex145_07x2_mag1_x735-1585_y980-1581_z769-1065.mat'"
      ]
     },
     "execution_count": 30,
     "metadata": {},
     "output_type": "execute_result"
    }
   ],
   "source": [
    "trainData[22]"
   ]
  },
  {
   "cell_type": "code",
   "execution_count": 34,
   "metadata": {},
   "outputs": [],
   "source": [
    "f = h5py.File('2012-09-28_ex145_07x2_mag1_x735-1585_y980-1581_z769-1065.mat', 'r')"
   ]
  },
  {
   "cell_type": "code",
   "execution_count": 40,
   "metadata": {},
   "outputs": [
    {
     "data": {
      "text/plain": [
       "(297, 602, 851)"
      ]
     },
     "execution_count": 40,
     "metadata": {},
     "output_type": "execute_result"
    }
   ],
   "source": [
    "f['data']['raw'].shape"
   ]
  },
  {
   "cell_type": "code",
   "execution_count": 29,
   "metadata": {},
   "outputs": [
    {
     "data": {
      "application/vnd.jupyter.widget-view+json": {
       "model_id": "8b055eba78f249df98a498eab7ec283b",
       "version_major": 2,
       "version_minor": 0
      },
      "text/plain": [
       "HBox(children=(IntProgress(value=0, max=1), HTML(value='')))"
      ]
     },
     "metadata": {},
     "output_type": "display_data"
    },
    {
     "ename": "NotImplementedError",
     "evalue": "Please use HDF reader for matlab v7.3 files",
     "output_type": "error",
     "traceback": [
      "\u001b[1;31m---------------------------------------------------------------------------\u001b[0m",
      "\u001b[1;31mNotImplementedError\u001b[0m                       Traceback (most recent call last)",
      "\u001b[1;32m<ipython-input-29-22ee92b61ada>\u001b[0m in \u001b[0;36m<module>\u001b[1;34m()\u001b[0m\n\u001b[0;32m      1\u001b[0m \u001b[1;32mfor\u001b[0m \u001b[0mtrainNo\u001b[0m \u001b[1;32min\u001b[0m \u001b[0mtqdm\u001b[0m\u001b[1;33m(\u001b[0m\u001b[0mrange\u001b[0m\u001b[1;33m(\u001b[0m\u001b[0mlen\u001b[0m\u001b[1;33m(\u001b[0m\u001b[0mtrainData\u001b[0m\u001b[1;33m)\u001b[0m\u001b[1;33m)\u001b[0m\u001b[1;33m[\u001b[0m\u001b[1;36m22\u001b[0m\u001b[1;33m:\u001b[0m\u001b[1;36m23\u001b[0m\u001b[1;33m]\u001b[0m\u001b[1;33m)\u001b[0m\u001b[1;33m:\u001b[0m\u001b[1;33m\u001b[0m\u001b[0m\n\u001b[1;32m----> 2\u001b[1;33m     \u001b[0mtrain1\u001b[0m \u001b[1;33m=\u001b[0m \u001b[0mscio\u001b[0m\u001b[1;33m.\u001b[0m\u001b[0mloadmat\u001b[0m\u001b[1;33m(\u001b[0m\u001b[0mtrainData\u001b[0m\u001b[1;33m[\u001b[0m\u001b[0mtrainNo\u001b[0m\u001b[1;33m]\u001b[0m\u001b[1;33m)\u001b[0m\u001b[1;33m\u001b[0m\u001b[0m\n\u001b[0m\u001b[0;32m      3\u001b[0m \u001b[1;33m\u001b[0m\u001b[0m\n\u001b[0;32m      4\u001b[0m     \u001b[1;31m#raw\u001b[0m\u001b[1;33m\u001b[0m\u001b[1;33m\u001b[0m\u001b[0m\n\u001b[0;32m      5\u001b[0m     \u001b[0mraw\u001b[0m \u001b[1;33m=\u001b[0m \u001b[0mtrain1\u001b[0m\u001b[1;33m[\u001b[0m\u001b[1;34m'data'\u001b[0m\u001b[1;33m]\u001b[0m\u001b[1;33m[\u001b[0m\u001b[1;34m'raw'\u001b[0m\u001b[1;33m]\u001b[0m\u001b[1;33m[\u001b[0m\u001b[1;36m0\u001b[0m\u001b[1;33m]\u001b[0m\u001b[1;33m[\u001b[0m\u001b[1;36m0\u001b[0m\u001b[1;33m]\u001b[0m\u001b[1;33m\u001b[0m\u001b[0m\n",
      "\u001b[1;32m~\\Anaconda3\\lib\\site-packages\\scipy\\io\\matlab\\mio.py\u001b[0m in \u001b[0;36mloadmat\u001b[1;34m(file_name, mdict, appendmat, **kwargs)\u001b[0m\n\u001b[0;32m    139\u001b[0m     \"\"\"\n\u001b[0;32m    140\u001b[0m     \u001b[0mvariable_names\u001b[0m \u001b[1;33m=\u001b[0m \u001b[0mkwargs\u001b[0m\u001b[1;33m.\u001b[0m\u001b[0mpop\u001b[0m\u001b[1;33m(\u001b[0m\u001b[1;34m'variable_names'\u001b[0m\u001b[1;33m,\u001b[0m \u001b[1;32mNone\u001b[0m\u001b[1;33m)\u001b[0m\u001b[1;33m\u001b[0m\u001b[0m\n\u001b[1;32m--> 141\u001b[1;33m     \u001b[0mMR\u001b[0m\u001b[1;33m,\u001b[0m \u001b[0mfile_opened\u001b[0m \u001b[1;33m=\u001b[0m \u001b[0mmat_reader_factory\u001b[0m\u001b[1;33m(\u001b[0m\u001b[0mfile_name\u001b[0m\u001b[1;33m,\u001b[0m \u001b[0mappendmat\u001b[0m\u001b[1;33m,\u001b[0m \u001b[1;33m**\u001b[0m\u001b[0mkwargs\u001b[0m\u001b[1;33m)\u001b[0m\u001b[1;33m\u001b[0m\u001b[0m\n\u001b[0m\u001b[0;32m    142\u001b[0m     \u001b[0mmatfile_dict\u001b[0m \u001b[1;33m=\u001b[0m \u001b[0mMR\u001b[0m\u001b[1;33m.\u001b[0m\u001b[0mget_variables\u001b[0m\u001b[1;33m(\u001b[0m\u001b[0mvariable_names\u001b[0m\u001b[1;33m)\u001b[0m\u001b[1;33m\u001b[0m\u001b[0m\n\u001b[0;32m    143\u001b[0m     \u001b[1;32mif\u001b[0m \u001b[0mmdict\u001b[0m \u001b[1;32mis\u001b[0m \u001b[1;32mnot\u001b[0m \u001b[1;32mNone\u001b[0m\u001b[1;33m:\u001b[0m\u001b[1;33m\u001b[0m\u001b[0m\n",
      "\u001b[1;32m~\\Anaconda3\\lib\\site-packages\\scipy\\io\\matlab\\mio.py\u001b[0m in \u001b[0;36mmat_reader_factory\u001b[1;34m(file_name, appendmat, **kwargs)\u001b[0m\n\u001b[0;32m     69\u001b[0m         \u001b[1;32mreturn\u001b[0m \u001b[0mMatFile5Reader\u001b[0m\u001b[1;33m(\u001b[0m\u001b[0mbyte_stream\u001b[0m\u001b[1;33m,\u001b[0m \u001b[1;33m**\u001b[0m\u001b[0mkwargs\u001b[0m\u001b[1;33m)\u001b[0m\u001b[1;33m,\u001b[0m \u001b[0mfile_opened\u001b[0m\u001b[1;33m\u001b[0m\u001b[0m\n\u001b[0;32m     70\u001b[0m     \u001b[1;32melif\u001b[0m \u001b[0mmjv\u001b[0m \u001b[1;33m==\u001b[0m \u001b[1;36m2\u001b[0m\u001b[1;33m:\u001b[0m\u001b[1;33m\u001b[0m\u001b[0m\n\u001b[1;32m---> 71\u001b[1;33m         \u001b[1;32mraise\u001b[0m \u001b[0mNotImplementedError\u001b[0m\u001b[1;33m(\u001b[0m\u001b[1;34m'Please use HDF reader for matlab v7.3 files'\u001b[0m\u001b[1;33m)\u001b[0m\u001b[1;33m\u001b[0m\u001b[0m\n\u001b[0m\u001b[0;32m     72\u001b[0m     \u001b[1;32melse\u001b[0m\u001b[1;33m:\u001b[0m\u001b[1;33m\u001b[0m\u001b[0m\n\u001b[0;32m     73\u001b[0m         \u001b[1;32mraise\u001b[0m \u001b[0mTypeError\u001b[0m\u001b[1;33m(\u001b[0m\u001b[1;34m'Did not recognize version %s'\u001b[0m \u001b[1;33m%\u001b[0m \u001b[0mmjv\u001b[0m\u001b[1;33m)\u001b[0m\u001b[1;33m\u001b[0m\u001b[0m\n",
      "\u001b[1;31mNotImplementedError\u001b[0m: Please use HDF reader for matlab v7.3 files"
     ]
    }
   ],
   "source": [
    "for trainNo in tqdm(range(len(trainData))[22:23]):\n",
    "    train1 = scio.loadmat(trainData[trainNo])\n",
    "    \n",
    "    #raw\n",
    "    raw = train1['data']['raw'][0][0]\n",
    "    raw_ = np.moveaxis(raw, -1, 0)\n",
    "    h5f = h5py.File('synEM_train_raw_'+str('%03d'%trainNo)+'.h5', 'w')\n",
    "    h5f.create_dataset('main', data=raw_)\n",
    "    h5f.close()\n",
    "    \n",
    "    #synapse direction\n",
    "    X = raw.shape[0]\n",
    "    Y = raw.shape[1]\n",
    "    Z = raw.shape[2]\n",
    "    interfaceLabels = train1['interfaceLabels']\n",
    "    synapse1 = np.where(interfaceLabels == 1)[0]\n",
    "    synapse2 = np.where(interfaceLabels == 2)[0]\n",
    "    synapse = np.hstack((synapse1,synapse2))\n",
    "    \n",
    "    #interface\n",
    "    interface = np.zeros((raw.shape),dtype='uint8')\n",
    "    interfaceSurfaceList = train1['data']['interfaceSurfaceList'][0][0]\n",
    "    for i in synapse:\n",
    "        interfacei = interfaceSurfaceList[i][0]\n",
    "        for j in range(interfacei.shape[0]):\n",
    "            idx = interfacei[j][0]\n",
    "            z = math.floor(idx/(X*Y))\n",
    "            y = math.floor((idx-z*X*Y)/X)\n",
    "            x = idx-z*X*Y - y*X -1\n",
    "            interface[x,y,z]=255\n",
    "            \n",
    "    #subvolume\n",
    "    Polarity = train1['data']['subsegmentsList'][0][0][0]\n",
    "    smallP = Polarity[0]\n",
    "    midP = Polarity[1]\n",
    "    largeP = Polarity[2]\n",
    "    \n",
    "    smallPolarity = np.zeros((raw.shape),dtype = 'uint8')\n",
    "    for i in synapse1:\n",
    "        prei = smallP[i][0]\n",
    "        posti = smallP[i][1]\n",
    "        for j in range(prei.shape[0]):\n",
    "            idx = prei[j][0]\n",
    "            z = math.floor(idx/(X*Y))\n",
    "            y = math.floor((idx-z*X*Y)/X)\n",
    "            x = idx-z*X*Y - y*X -1\n",
    "            smallPolarity[x,y,z]=255\n",
    "        for j in range(posti.shape[0]):\n",
    "            idx = posti[j][0]\n",
    "            z = math.floor(idx/(X*Y))\n",
    "            y = math.floor((idx-z*X*Y)/X)\n",
    "            x = idx-z*X*Y - y*X -1\n",
    "            smallPolarity[x,y,z]=128\n",
    "            \n",
    "    for i in synapse2:\n",
    "        posti = smallP[i][0]\n",
    "        prei = smallP[i][1]\n",
    "        for j in range(prei.shape[0]):\n",
    "            idx = prei[j][0]\n",
    "            z = math.floor(idx/(X*Y))\n",
    "            y = math.floor((idx-z*X*Y)/X)\n",
    "            x = idx-z*X*Y - y*X -1\n",
    "            smallPolarity[x,y,z]=255\n",
    "        for j in range(posti.shape[0]):\n",
    "            idx = posti[j][0]\n",
    "            z = math.floor(idx/(X*Y))\n",
    "            y = math.floor((idx-z*X*Y)/X)\n",
    "            x = idx-z*X*Y - y*X -1\n",
    "            smallPolarity[x,y,z]=128\n",
    "            \n",
    "    midPolarity = np.zeros((raw.shape),dtype = 'uint8')\n",
    "    for i in synapse1:\n",
    "        prei = midP[i][0]\n",
    "        posti = midP[i][1]\n",
    "        for j in range(prei.shape[0]):\n",
    "            idx = prei[j][0]\n",
    "            z = math.floor(idx/(X*Y))\n",
    "            y = math.floor((idx-z*X*Y)/X)\n",
    "            x = idx-z*X*Y - y*X -1\n",
    "            midPolarity[x,y,z]=255\n",
    "        for j in range(posti.shape[0]):\n",
    "            idx = posti[j][0]\n",
    "            z = math.floor(idx/(X*Y))\n",
    "            y = math.floor((idx-z*X*Y)/X)\n",
    "            x = idx-z*X*Y - y*X -1\n",
    "            midPolarity[x,y,z]=128\n",
    "            \n",
    "    for i in synapse2:\n",
    "        posti = midP[i][0]\n",
    "        prei = midP[i][1]\n",
    "        for j in range(prei.shape[0]):\n",
    "            idx = prei[j][0]\n",
    "            z = math.floor(idx/(X*Y))\n",
    "            y = math.floor((idx-z*X*Y)/X)\n",
    "            x = idx-z*X*Y - y*X -1\n",
    "            midPolarity[x,y,z]=255\n",
    "        for j in range(posti.shape[0]):\n",
    "            idx = posti[j][0]\n",
    "            z = math.floor(idx/(X*Y))\n",
    "            y = math.floor((idx-z*X*Y)/X)\n",
    "            x = idx-z*X*Y - y*X -1\n",
    "            midPolarity[x,y,z]=128\n",
    "            \n",
    "    largePolarity = np.zeros((raw.shape),dtype = 'uint8')\n",
    "    for i in synapse1:\n",
    "        prei = largeP[i][0]\n",
    "        posti = largeP[i][1]\n",
    "        for j in range(prei.shape[0]):\n",
    "            idx = prei[j][0]\n",
    "            z = math.floor(idx/(X*Y))\n",
    "            y = math.floor((idx-z*X*Y)/X)\n",
    "            x = idx-z*X*Y - y*X -1\n",
    "            largePolarity[x,y,z]=255\n",
    "        for j in range(posti.shape[0]):\n",
    "            idx = posti[j][0]\n",
    "            z = math.floor(idx/(X*Y))\n",
    "            y = math.floor((idx-z*X*Y)/X)\n",
    "            x = idx-z*X*Y - y*X -1\n",
    "            largePolarity[x,y,z]=128\n",
    "            \n",
    "    for i in synapse2:\n",
    "        posti = largeP[i][0]\n",
    "        prei = largeP[i][1]\n",
    "        for j in range(prei.shape[0]):\n",
    "            idx = prei[j][0]\n",
    "            z = math.floor(idx/(X*Y))\n",
    "            y = math.floor((idx-z*X*Y)/X)\n",
    "            x = idx-z*X*Y - y*X -1\n",
    "            largePolarity[x,y,z]=255\n",
    "        for j in range(posti.shape[0]):\n",
    "            idx = posti[j][0]\n",
    "            z = math.floor(idx/(X*Y))\n",
    "            y = math.floor((idx-z*X*Y)/X)\n",
    "            x = idx-z*X*Y - y*X -1\n",
    "            largePolarity[x,y,z]=128\n",
    "            \n",
    "    #label generating\n",
    "    Label = np.zeros((4,raw.shape[2],raw.shape[0],raw.shape[1]))\n",
    "    Label[0]=np.moveaxis(interface, -1, 0)\n",
    "    Label[1]=np.moveaxis(smallPolarity, -1, 0)\n",
    "    Label[2]=np.moveaxis(midPolarity, -1, 0)\n",
    "    Label[3]=np.moveaxis(largePolarity, -1, 0)\n",
    "    h5f = h5py.File('synEM_train_label_'+str('%03d'%trainNo)+'.h5', 'w')\n",
    "    h5f.create_dataset('main', data=Label)\n",
    "    h5f.close()"
   ]
  },
  {
   "cell_type": "code",
   "execution_count": null,
   "metadata": {},
   "outputs": [],
   "source": []
  }
 ],
 "metadata": {
  "kernelspec": {
   "display_name": "Python 3",
   "language": "python",
   "name": "python3"
  },
  "language_info": {
   "codemirror_mode": {
    "name": "ipython",
    "version": 3
   },
   "file_extension": ".py",
   "mimetype": "text/x-python",
   "name": "python",
   "nbconvert_exporter": "python",
   "pygments_lexer": "ipython3",
   "version": "3.6.5"
  }
 },
 "nbformat": 4,
 "nbformat_minor": 2
}
