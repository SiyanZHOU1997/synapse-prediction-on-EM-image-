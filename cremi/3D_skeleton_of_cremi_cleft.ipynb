{
 "cells": [
  {
   "cell_type": "code",
   "execution_count": 2,
   "metadata": {},
   "outputs": [],
   "source": [
    "from sklearn.cluster import KMeans\n",
    "import numpy as np\n",
    "import h5py\n",
    "import matplotlib.pyplot as plt\n",
    "from mpl_toolkits.mplot3d import Axes3D\n",
    "import scipy\n",
    "from PIL import Image\n",
    "from scipy.spatial import ConvexHull\n",
    "import sys\n",
    "from skimage.measure import label\n",
    "import matplotlib.tri as mtri"
   ]
  },
  {
   "cell_type": "markdown",
   "metadata": {},
   "source": [
    "# preprocessing"
   ]
  },
  {
   "cell_type": "code",
   "execution_count": 3,
   "metadata": {},
   "outputs": [],
   "source": [
    "def getConnectedPoints(i):\n",
    "    l = []\n",
    "    for o in range(cleftsA.shape[0]):\n",
    "        for p in range(cleftsA.shape[1]):\n",
    "            for q in range(cleftsA.shape[2]):\n",
    "                if lb[0][o,p,q] == i:\n",
    "                    l.append([o,p,q])\n",
    "    return l"
   ]
  },
  {
   "cell_type": "code",
   "execution_count": 4,
   "metadata": {},
   "outputs": [],
   "source": [
    "def getVolume(points):\n",
    "    n = np.array(points)\n",
    "    n = n.T\n",
    "    xMAX = max(n[1,:])\n",
    "    xMIN = min(n[1,:])\n",
    "    yMAX = max(n[2,:])\n",
    "    yMIN = min(n[2,:])\n",
    "    zMAX = max(n[0,:])\n",
    "    zMIN = min(n[0,:])\n",
    "    return (xMAX,xMIN,yMAX,yMIN,zMAX,zMIN)"
   ]
  },
  {
   "cell_type": "code",
   "execution_count": 5,
   "metadata": {},
   "outputs": [],
   "source": [
    "def get3DPoints(points):\n",
    "    l3D = []\n",
    "    v = getVolume(points)\n",
    "    xMIN = v[1]\n",
    "    yMIN = v[3]\n",
    "    zMIN = v[5]\n",
    "    for i in points:\n",
    "        for j in range(10):\n",
    "            l3D.append([i[1]-xMIN,i[2]-yMIN,(i[0]-zMIN)*10+j])\n",
    "    return l3D"
   ]
  },
  {
   "cell_type": "code",
   "execution_count": 6,
   "metadata": {},
   "outputs": [
    {
     "name": "stdout",
     "output_type": "stream",
     "text": [
      "/home/siyan/projects/cluster\n"
     ]
    }
   ],
   "source": [
    "cd /home/siyan/projects/cluster"
   ]
  },
  {
   "cell_type": "code",
   "execution_count": 7,
   "metadata": {},
   "outputs": [],
   "source": [
    "with h5py.File('data/cremi/gt-syn/syn_A_v2_200.h5','r') as f:\n",
    "    cleftsA = f['main'][:]"
   ]
  },
  {
   "cell_type": "code",
   "execution_count": 8,
   "metadata": {},
   "outputs": [],
   "source": [
    "lb = label(input=cleftsA, background=0, connectivity=2, return_num=True)\n",
    "\n",
    "points = getConnectedPoints(1)\n",
    "v = getVolume(points)"
   ]
  },
  {
   "cell_type": "code",
   "execution_count": 9,
   "metadata": {},
   "outputs": [],
   "source": [
    "l3D = get3DPoints(points)"
   ]
  },
  {
   "cell_type": "code",
   "execution_count": 10,
   "metadata": {},
   "outputs": [
    {
     "data": {
      "text/plain": [
       "13300"
      ]
     },
     "execution_count": 10,
     "metadata": {},
     "output_type": "execute_result"
    }
   ],
   "source": [
    "len(l3D)"
   ]
  },
  {
   "cell_type": "code",
   "execution_count": 11,
   "metadata": {},
   "outputs": [],
   "source": [
    "a = np.array(l3D)"
   ]
  },
  {
   "cell_type": "code",
   "execution_count": 163,
   "metadata": {},
   "outputs": [
    {
     "data": {
      "text/plain": [
       "array([[ 6, 26,  0],\n",
       "       [ 6, 26,  1],\n",
       "       [ 6, 26,  2],\n",
       "       ...,\n",
       "       [33, 34, 37],\n",
       "       [33, 34, 38],\n",
       "       [33, 34, 39]])"
      ]
     },
     "execution_count": 163,
     "metadata": {},
     "output_type": "execute_result"
    }
   ],
   "source": [
    "a"
   ]
  },
  {
   "cell_type": "code",
   "execution_count": 12,
   "metadata": {},
   "outputs": [
    {
     "data": {
      "image/png": "[encoded data removed]",
      "text/plain": [
       "<Figure size 432x288 with 1 Axes>"
      ]
     },
     "metadata": {},
     "output_type": "display_data"
    }
   ],
   "source": [
    "fig = plt.figure()\n",
    "ax = fig.add_subplot(111, projection=\"3d\")\n",
    "\n",
    "# Plot defining corner points\n",
    "ax.plot(a.T[0], a.T[1], a.T[2], \"ko\")\n",
    "ax.view_init(elev=0, azim=0)"
   ]
  },
  {
   "cell_type": "code",
   "execution_count": 12,
   "metadata": {},
   "outputs": [
    {
     "name": "stdout",
     "output_type": "stream",
     "text": [
      "(74, 99, 80)\n"
     ]
    }
   ],
   "source": [
    "m = np.zeros((v[0]-v[1]+41,v[2]-v[3]+41,(v[4]-v[5]+1)*10+40))\n",
    "print (m.shape)"
   ]
  },
  {
   "cell_type": "code",
   "execution_count": 13,
   "metadata": {},
   "outputs": [],
   "source": [
    "for p in l3D:\n",
    "    m[p[0]+20,p[1]+20,p[2]+20] = 1"
   ]
  },
  {
   "cell_type": "markdown",
   "metadata": {},
   "source": [
    "### (1) use dilation and erosion to smooth"
   ]
  },
  {
   "cell_type": "markdown",
   "metadata": {},
   "source": [
    "Remind that the method here is REALLY stupid. It would be much more better to use distance transform"
   ]
  },
  {
   "cell_type": "code",
   "execution_count": 1,
   "metadata": {},
   "outputs": [],
   "source": [
    "#dilation"
   ]
  },
  {
   "cell_type": "code",
   "execution_count": 17,
   "metadata": {},
   "outputs": [
    {
     "name": "stdout",
     "output_type": "stream",
     "text": [
      "183327.0\n",
      "170765.0\n",
      "158692.0\n",
      "147101.0\n",
      "135984.0\n",
      "125334.0\n",
      "115144.0\n",
      "105406.0\n",
      "96113.0\n",
      "87261.0\n",
      "78844.0\n",
      "70854.0\n",
      "63283.0\n",
      "56123.0\n",
      "49370.0\n",
      "43019.0\n",
      "37065.0\n",
      "31501.0\n",
      "26321.0\n",
      "21525.0\n"
     ]
    }
   ],
   "source": [
    "#erosion\n",
    "for x in range(20):\n",
    "    boundry=[]\n",
    "    print (m.sum())\n",
    "    for i in range(m.shape[0]):\n",
    "        for j in range(m.shape[1]):\n",
    "            for k in range(m.shape[2]):\n",
    "                b = False\n",
    "                if m[i,j,k] == 1:   \n",
    "                    if (i == 0) or (i == m.shape[0]-1) or (j == 0) or (j == m.shape[1]-1) or (k == 0) or (k==m.shape[2]-1):\n",
    "                        b = True\n",
    "                    elif m[i+1,j,k] * m[i-1,j,k] * m[i,j+1,k] * m[i,j-1,k] *m[i,j,k+1]*m[i,j,k-1] == 0:\n",
    "                        b = True\n",
    "                if b == True:\n",
    "                    boundry.append([i,j,k])\n",
    "    for b in boundry:\n",
    "        m[b[0],b[1],b[2]] = 0\n",
    "          "
   ]
  },
  {
   "cell_type": "code",
   "execution_count": 299,
   "metadata": {},
   "outputs": [
    {
     "data": {
      "text/plain": [
       "17142.0"
      ]
     },
     "execution_count": 299,
     "metadata": {},
     "output_type": "execute_result"
    }
   ],
   "source": [
    "m.sum()"
   ]
  },
  {
   "cell_type": "code",
   "execution_count": 308,
   "metadata": {},
   "outputs": [
    {
     "data": {
      "image/png": "[encoded data removed]",
      "text/plain": [
       "<Figure size 432x288 with 1 Axes>"
      ]
     },
     "metadata": {},
     "output_type": "display_data"
    }
   ],
   "source": [
    "fig = plt.figure()\n",
    "ax = fig.add_subplot(111, projection=\"3d\")\n",
    "\n",
    "# Plot defining corner points\n",
    "ax.plot(h.T[0], h.T[1], h.T[2], \"ko\")\n",
    "ax.view_init(elev=0, azim=150)"
   ]
  },
  {
   "cell_type": "code",
   "execution_count": 18,
   "metadata": {},
   "outputs": [
    {
     "name": "stderr",
     "output_type": "stream",
     "text": [
      "/home/siyan/anaconda3/lib/python3.6/site-packages/skimage/util/dtype.py:122: UserWarning: Possible precision loss when converting from float64 to uint8\n",
      "  .format(dtypeobj_in, dtypeobj_out))\n"
     ]
    },
    {
     "name": "stdout",
     "output_type": "stream",
     "text": [
      "(80, 74, 99)\n"
     ]
    }
   ],
   "source": [
    "#3d skeleton\n",
    "from skimage import morphology,draw\n",
    "M = np.zeros((m.shape[2],m.shape[0],m.shape[1]))\n",
    "for i in range(M.shape[0]):\n",
    "    M[i,:,:] = m[:,:,i]\n",
    "skeleton =morphology.skeletonize_3d(M)\n",
    "print (skeleton.shape)\n",
    "s = []\n",
    "for i in range(skeleton.shape[0]):\n",
    "    for j in range(skeleton.shape[1]):\n",
    "        for k in range(skeleton.shape[2]):\n",
    "            if skeleton[i,j,k] != 0:\n",
    "                s.append([i,j,k])\n",
    "    \n",
    "s= np.array(s)"
   ]
  },
  {
   "cell_type": "code",
   "execution_count": 21,
   "metadata": {},
   "outputs": [
    {
     "data": {
      "image/png": "[encoded data removed]",
      "text/plain": [
       "<Figure size 432x288 with 1 Axes>"
      ]
     },
     "metadata": {},
     "output_type": "display_data"
    }
   ],
   "source": [
    "figs = plt.figure()\n",
    "axs = figs.add_subplot(111, projection=\"3d\")\n",
    "\n",
    "axs.plot(s.T[1], s.T[2], s.T[0], \"ko\")\n",
    "axs.view_init(elev=0, azim=90)"
   ]
  },
  {
   "cell_type": "markdown",
   "metadata": {},
   "source": [
    "### (2) mtri.Triangulation()"
   ]
  },
  {
   "cell_type": "markdown",
   "metadata": {},
   "source": [
    "I still not fully understand this method...So this is just a naive exploration."
   ]
  },
  {
   "cell_type": "code",
   "execution_count": 18,
   "metadata": {},
   "outputs": [],
   "source": [
    "x = a.T[0]"
   ]
  },
  {
   "cell_type": "code",
   "execution_count": 19,
   "metadata": {},
   "outputs": [],
   "source": [
    "y = a.T[1]\n",
    "z = a.T[2]"
   ]
  },
  {
   "cell_type": "code",
   "execution_count": 20,
   "metadata": {},
   "outputs": [],
   "source": [
    "triang = mtri.Triangulation(x, y)"
   ]
  },
  {
   "cell_type": "code",
   "execution_count": 21,
   "metadata": {},
   "outputs": [
    {
     "data": {
      "image/png": "[encoded data removed]",
      "text/plain": [
       "<Figure size 432x288 with 1 Axes>"
      ]
     },
     "metadata": {},
     "output_type": "display_data"
    }
   ],
   "source": [
    "fig = plt.figure()\n",
    "ax = fig.add_subplot(1,1,1, projection='3d')\n",
    "\n",
    "ax.plot_trisurf(triang, z, cmap='jet')\n",
    "ax.scatter(x,y,z, marker='.', s=10, c=\"black\", alpha=0.5)\n",
    "ax.view_init(elev=60, azim=-45)\n",
    "\n",
    "ax.set_xlabel('X')\n",
    "ax.set_ylabel('Y')\n",
    "ax.set_zlabel('Z')\n",
    "ax.view_init(elev=0, azim=130)\n",
    "plt.show()"
   ]
  },
  {
   "cell_type": "code",
   "execution_count": 22,
   "metadata": {},
   "outputs": [],
   "source": [
    "xi, yi = np.meshgrid(np.linspace(0,35,70),np.linspace(0,60, 120))"
   ]
  },
  {
   "cell_type": "code",
   "execution_count": 23,
   "metadata": {},
   "outputs": [
    {
     "ename": "ValueError",
     "evalue": "shape mismatch: value array of shape (326,) could not be broadcast to indexing result of shape (310,)",
     "output_type": "error",
     "traceback": [
      "\u001b[0;31m---------------------------------------------------------------------------\u001b[0m",
      "\u001b[0;31mValueError\u001b[0m                                Traceback (most recent call last)",
      "\u001b[0;32m<ipython-input-23-62b64d61d8bc>\u001b[0m in \u001b[0;36m<module>\u001b[0;34m()\u001b[0m\n\u001b[0;32m----> 1\u001b[0;31m \u001b[0minterp_cubic_geom\u001b[0m\u001b[0;34m=\u001b[0m\u001b[0mmtri\u001b[0m\u001b[0;34m.\u001b[0m\u001b[0mCubicTriInterpolator\u001b[0m\u001b[0;34m(\u001b[0m\u001b[0mtriang\u001b[0m\u001b[0;34m,\u001b[0m\u001b[0mz\u001b[0m\u001b[0;34m,\u001b[0m\u001b[0mkind\u001b[0m\u001b[0;34m=\u001b[0m\u001b[0;34m'geom'\u001b[0m\u001b[0;34m)\u001b[0m\u001b[0;34m\u001b[0m\u001b[0m\n\u001b[0m",
      "\u001b[0;32m~/anaconda3/lib/python3.6/site-packages/matplotlib/tri/triinterpolate.py\u001b[0m in \u001b[0;36m__init__\u001b[0;34m(self, triangulation, z, kind, trifinder, dz)\u001b[0m\n\u001b[1;32m    414\u001b[0m         \u001b[0;31m# Taking into account the node renumbering in self._z:\u001b[0m\u001b[0;34m\u001b[0m\u001b[0;34m\u001b[0m\u001b[0m\n\u001b[1;32m    415\u001b[0m         \u001b[0mnode_mask\u001b[0m \u001b[0;34m=\u001b[0m \u001b[0;34m(\u001b[0m\u001b[0mnode_renum\u001b[0m \u001b[0;34m==\u001b[0m \u001b[0;34m-\u001b[0m\u001b[0;36m1\u001b[0m\u001b[0;34m)\u001b[0m\u001b[0;34m\u001b[0m\u001b[0m\n\u001b[0;32m--> 416\u001b[0;31m         \u001b[0mself\u001b[0m\u001b[0;34m.\u001b[0m\u001b[0m_z\u001b[0m\u001b[0;34m[\u001b[0m\u001b[0mnode_renum\u001b[0m\u001b[0;34m[\u001b[0m\u001b[0;34m~\u001b[0m\u001b[0mnode_mask\u001b[0m\u001b[0;34m]\u001b[0m\u001b[0;34m]\u001b[0m \u001b[0;34m=\u001b[0m \u001b[0mself\u001b[0m\u001b[0;34m.\u001b[0m\u001b[0m_z\u001b[0m\u001b[0;34m\u001b[0m\u001b[0m\n\u001b[0m\u001b[1;32m    417\u001b[0m         \u001b[0mself\u001b[0m\u001b[0;34m.\u001b[0m\u001b[0m_z\u001b[0m \u001b[0;34m=\u001b[0m \u001b[0mself\u001b[0m\u001b[0;34m.\u001b[0m\u001b[0m_z\u001b[0m\u001b[0;34m[\u001b[0m\u001b[0;34m~\u001b[0m\u001b[0mnode_mask\u001b[0m\u001b[0;34m]\u001b[0m\u001b[0;34m\u001b[0m\u001b[0m\n\u001b[1;32m    418\u001b[0m \u001b[0;34m\u001b[0m\u001b[0m\n",
      "\u001b[0;31mValueError\u001b[0m: shape mismatch: value array of shape (326,) could not be broadcast to indexing result of shape (310,)"
     ]
    }
   ],
   "source": [
    "interp_cubic_geom=mtri.CubicTriInterpolator(triang,z,kind='geom')"
   ]
  },
  {
   "cell_type": "code",
   "execution_count": 26,
   "metadata": {},
   "outputs": [],
   "source": [
    "from skimage import measure\n",
    "verts, faces, normals, values = measure.marching_cubes_lewiner(m, 0)"
   ]
  },
  {
   "cell_type": "code",
   "execution_count": 29,
   "metadata": {},
   "outputs": [
    {
     "data": {
      "text/plain": [
       "array([[ 0., 53., 30.],\n",
       "       [ 1., 54., 29.],\n",
       "       [ 1., 53., 30.],\n",
       "       ...,\n",
       "       [33., 34., 29.],\n",
       "       [33., 34., 31.],\n",
       "       [33., 35., 30.]], dtype=float32)"
      ]
     },
     "execution_count": 29,
     "metadata": {},
     "output_type": "execute_result"
    }
   ],
   "source": [
    "verts"
   ]
  },
  {
   "cell_type": "code",
   "execution_count": 28,
   "metadata": {},
   "outputs": [
    {
     "data": {
      "image/png": "[encoded data removed]",
      "text/plain": [
       "<Figure size 720x720 with 1 Axes>"
      ]
     },
     "metadata": {},
     "output_type": "display_data"
    }
   ],
   "source": [
    "from mpl_toolkits.mplot3d.art3d import Poly3DCollection\n",
    "fig = plt.figure(figsize=(10, 10))\n",
    "ax = fig.add_subplot(111, projection='3d')\n",
    "\n",
    "# Fancy indexing: `verts[faces]` to generate a collection of triangles\n",
    "mesh = Poly3DCollection(verts[faces])\n",
    "mesh.set_edgecolor('k')\n",
    "ax.add_collection3d(mesh)"
   ]
  },
  {
   "cell_type": "code",
   "execution_count": 32,
   "metadata": {},
   "outputs": [],
   "source": [
    "from skimage.draw import ellipsoid\n",
    "\n",
    "\n",
    "# Generate a level set about zero of two identical ellipsoids in 3D\n",
    "ellip_base = ellipsoid(6, 10, 16, levelset=True)\n",
    "ellip_double = np.concatenate((ellip_base[:-1, ...],\n",
    "                               ellip_base[2:, ...]), axis=0)"
   ]
  },
  {
   "cell_type": "code",
   "execution_count": 40,
   "metadata": {},
   "outputs": [
    {
     "data": {
      "text/plain": [
       "array([ 0.,  1.,  2.,  3.,  4.,  5.,  6.,  7.,  8.,  9., 10., 11., 12.,\n",
       "       13., 14., 15., 16., 17., 18., 19., 20., 21., 22., 23., 24., 25.,\n",
       "       26., 27., 28., 29., 30., 31., 32., 33., 34.])"
      ]
     },
     "execution_count": 40,
     "metadata": {},
     "output_type": "execute_result"
    }
   ],
   "source": [
    "np.linspace(0,34,35)"
   ]
  },
  {
   "cell_type": "markdown",
   "metadata": {},
   "source": [
    "# (3) interpolation"
   ]
  },
  {
   "cell_type": "markdown",
   "metadata": {},
   "source": [
    "remind that scipy.interpolate is not as good as cv2.resize. (This was writen at the very beginning of the summer, just have learnt A LOT during the summer!)"
   ]
  },
  {
   "cell_type": "code",
   "execution_count": 166,
   "metadata": {},
   "outputs": [],
   "source": [
    "from scipy.interpolate import RegularGridInterpolator\n",
    "from numpy import linspace, zeros, array\n",
    "x = np.linspace(0,33,34)\n",
    "y = np.linspace(0,58,59)\n",
    "z = np.linspace(0,39,40)\n",
    "V = m\n",
    "\n",
    "fn = RegularGridInterpolator((x,y,z), V,method = 'nearest')\n"
   ]
  },
  {
   "cell_type": "code",
   "execution_count": 137,
   "metadata": {},
   "outputs": [
    {
     "data": {
      "text/plain": [
       "array([1.])"
      ]
     },
     "execution_count": 137,
     "metadata": {},
     "output_type": "execute_result"
    }
   ],
   "source": [
    "fn([33,34,2.6])"
   ]
  },
  {
   "cell_type": "code",
   "execution_count": 167,
   "metadata": {},
   "outputs": [],
   "source": [
    "hhh = []\n",
    "for i in range(m.shape[0]):\n",
    "    for j in range(m.shape[1]):\n",
    "        for k in range(m.shape[2]):\n",
    "                if fn(np.array([i,j,k])) != 0:\n",
    "                    hhh.append([i,j,k])\n",
    "h = np.array(hhh)\n",
    "\n"
   ]
  },
  {
   "cell_type": "code",
   "execution_count": 168,
   "metadata": {},
   "outputs": [
    {
     "data": {
      "text/plain": [
       "13300"
      ]
     },
     "execution_count": 168,
     "metadata": {},
     "output_type": "execute_result"
    }
   ],
   "source": [
    "len(hhh)"
   ]
  },
  {
   "cell_type": "code",
   "execution_count": 146,
   "metadata": {},
   "outputs": [
    {
     "data": {
      "image/png": "[encoded data removed]",
      "text/plain": [
       "<Figure size 432x288 with 1 Axes>"
      ]
     },
     "metadata": {},
     "output_type": "display_data"
    }
   ],
   "source": [
    "fig = plt.figure()\n",
    "ax = fig.add_subplot(111, projection=\"3d\")\n",
    "\n",
    "# Plot defining corner points\n",
    "ax.plot(h.T[0], h.T[1], h.T[2], \"ko\")\n",
    "ax.view_init(elev=0, azim=120)"
   ]
  }
 ],
 "metadata": {
  "kernelspec": {
   "display_name": "Python 3",
   "language": "python",
   "name": "python3"
  },
  "language_info": {
   "codemirror_mode": {
    "name": "ipython",
    "version": 3
   },
   "file_extension": ".py",
   "mimetype": "text/x-python",
   "name": "python",
   "nbconvert_exporter": "python",
   "pygments_lexer": "ipython3",
   "version": "3.6.5"
  }
 },
 "nbformat": 4,
 "nbformat_minor": 2
}
